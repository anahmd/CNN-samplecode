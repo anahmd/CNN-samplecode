{
 "cells": [
  {
   "cell_type": "code",
   "execution_count": 1,
   "id": "09125b43",
   "metadata": {},
   "outputs": [],
   "source": [
    "# import the necessary packages\n",
    "from collections import namedtuple\n",
    "import numpy as np\n",
    "import cv2\n",
    "# define the `Detection` object\n",
    "Detection = namedtuple(\"Detection\", [\"image_path\", \"gt\", \"pred\"])"
   ]
  },
  {
   "cell_type": "code",
   "execution_count": 2,
   "id": "d9acec5f",
   "metadata": {},
   "outputs": [],
   "source": [
    "def bb_intersection_over_union(boxA, boxB):\n",
    "\t# determine the (x, y)-coordinates of the intersection rectangle\n",
    "\txA = max(boxA[0], boxB[0])\n",
    "\tyA = max(boxA[1], boxB[1])\n",
    "\txB = min(boxA[2], boxB[2])\n",
    "\tyB = min(boxA[3], boxB[3])\n",
    "\t# compute the area of intersection rectangle\n",
    "\tinterArea = max(0, xB - xA + 1) * max(0, yB - yA + 1)\n",
    "\t# compute the area of both the prediction and ground-truth\n",
    "\t# rectangles\n",
    "\tboxAArea = (boxA[2] - boxA[0] + 1) * (boxA[3] - boxA[1] + 1)\n",
    "\tboxBArea = (boxB[2] - boxB[0] + 1) * (boxB[3] - boxB[1] + 1)\n",
    "\t# compute the intersection over union by taking the intersection\n",
    "\t# area and dividing it by the sum of prediction + ground-truth\n",
    "\t# areas - the interesection area\n",
    "\tiou = interArea / float(boxAArea + boxBArea - interArea)\n",
    "\t# return the intersection over union value\n",
    "\treturn iou"
   ]
  },
  {
   "cell_type": "code",
   "execution_count": 3,
   "id": "b4c22b3a",
   "metadata": {},
   "outputs": [],
   "source": [
    "# define the list of example detections\n",
    "examples = [\n",
    "\tDetection(\"/Users/gamerzinn/Downloads/VOCdevkit/VOC2008/JPEGImages/2008_008395.jpg\", [100, 77, 370, 277], [115, 72, 382, 272]),\n",
    "\tDetection(\"/Users/gamerzinn/Downloads/VOCdevkit/VOC2008/JPEGImages/2008_008395.jpg\", [49, 75, 203, 125], [42, 78, 186, 126]),\n",
    "\tDetection(\"/Users/gamerzinn/Downloads/VOCdevkit/VOC2008/JPEGImages/2008_008377.jpg\", [31, 69, 201, 125], [18, 63, 235, 135]),\n",
    "\tDetection(\"/Users/gamerzinn/Downloads/VOCdevkit/VOC2008/JPEGImages/2008_008366.jpg\", [50, 72, 197, 121], [54, 72, 198, 120]),\n",
    "\tDetection(\"/Users/gamerzinn/Downloads/VOCdevkit/VOC2008/JPEGImages/2008_008359.jpg\", [80, 71, 200, 300], [95, 60, 200, 300])]\n",
    "#Downloads/VOCdevkit/VOC2008/JPEGImages/"
   ]
  },
  {
   "cell_type": "code",
   "execution_count": 4,
   "id": "8a332577",
   "metadata": {},
   "outputs": [
    {
     "name": "stdout",
     "output_type": "stream",
     "text": [
      "[Detection(image_path='/Users/gamerzinn/Downloads/VOCdevkit/VOC2008/JPEGImages/2008_008395.jpg', gt=[100, 77, 370, 277], pred=[115, 72, 382, 272]), Detection(image_path='/Users/gamerzinn/Downloads/VOCdevkit/VOC2008/JPEGImages/2008_008395.jpg', gt=[49, 75, 203, 125], pred=[42, 78, 186, 126]), Detection(image_path='/Users/gamerzinn/Downloads/VOCdevkit/VOC2008/JPEGImages/2008_008377.jpg', gt=[31, 69, 201, 125], pred=[18, 63, 235, 135]), Detection(image_path='/Users/gamerzinn/Downloads/VOCdevkit/VOC2008/JPEGImages/2008_008366.jpg', gt=[50, 72, 197, 121], pred=[54, 72, 198, 120]), Detection(image_path='/Users/gamerzinn/Downloads/VOCdevkit/VOC2008/JPEGImages/2008_008359.jpg', gt=[80, 71, 200, 300], pred=[95, 60, 200, 300])]\n"
     ]
    }
   ],
   "source": [
    "print(examples)"
   ]
  },
  {
   "cell_type": "code",
   "execution_count": null,
   "id": "8de8849e",
   "metadata": {},
   "outputs": [
    {
     "name": "stdout",
     "output_type": "stream",
     "text": [
      "/Users/gamerzinn/Downloads/VOCdevkit/VOC2008/JPEGImages/2008_008395.jpg: 0.8627\n"
     ]
    }
   ],
   "source": [
    "# loop over the example detections\n",
    "for detection in examples:\n",
    "\t# load the image\n",
    "\timage = cv2.imread(detection.image_path)\n",
    "\t# draw the ground-truth bounding box along with the predicted\n",
    "\t# bounding box\n",
    "\tcv2.rectangle(image, tuple(detection.gt[:2]), \n",
    "\t\ttuple(detection.gt[2:]), (0, 500, 0), 2)\n",
    "\tcv2.rectangle(image, tuple(detection.pred[:2]), \n",
    "\t\ttuple(detection.pred[2:]), (0, 0, 500), 2)\n",
    "\t# compute the intersection over union and display it\n",
    "\tiou = bb_intersection_over_union(detection.gt, detection.pred)\n",
    "\tcv2.putText(image, \"IoU: {:.4f}\".format(iou), (10, 30),\n",
    "\t\tcv2.FONT_HERSHEY_SIMPLEX, 0.6, (0, 255, 0), 2)\n",
    "\tprint(\"{}: {:.4f}\".format(detection.image_path, iou))\n",
    "\t# show the output image\n",
    "\tcv2.imshow(\"Image\", image)\n",
    "\tcv2.waitKey(0)"
   ]
  },
  {
   "cell_type": "code",
   "execution_count": null,
   "id": "50d6bdff",
   "metadata": {},
   "outputs": [],
   "source": []
  }
 ],
 "metadata": {
  "kernelspec": {
   "display_name": "Python 3 (ipykernel)",
   "language": "python",
   "name": "python3"
  },
  "language_info": {
   "codemirror_mode": {
    "name": "ipython",
    "version": 3
   },
   "file_extension": ".py",
   "mimetype": "text/x-python",
   "name": "python",
   "nbconvert_exporter": "python",
   "pygments_lexer": "ipython3",
   "version": "3.9.7"
  }
 },
 "nbformat": 4,
 "nbformat_minor": 5
}
